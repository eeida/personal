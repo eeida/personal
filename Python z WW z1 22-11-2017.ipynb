{
 "cells": [
  {
   "cell_type": "code",
   "execution_count": 3,
   "metadata": {
    "collapsed": false
   },
   "outputs": [
    {
     "data": {
      "text/plain": [
       "'Twój obecny wiek to 12, a za 4 lata będziesz mieć 53 lat.'"
      ]
     },
     "execution_count": 3,
     "metadata": {},
     "output_type": "execute_result"
    }
   ],
   "source": [
    "\"Twój {3} wiek to {0}, a za 4 lata będziesz mieć {1} lat.\".format(12, 53, 32, \"obecny\")"
   ]
  },
  {
   "cell_type": "code",
   "execution_count": 4,
   "metadata": {
    "collapsed": false
   },
   "outputs": [
    {
     "data": {
      "text/plain": [
       "['d', 'u', 'p', 'a', 'd', 'u', 'p', 'a']"
      ]
     },
     "execution_count": 4,
     "metadata": {},
     "output_type": "execute_result"
    }
   ],
   "source": [
    "# stringi to zakamuflowane listy\n",
    "list(\"dupadupa\")"
   ]
  },
  {
   "cell_type": "markdown",
   "metadata": {},
   "source": [
    "Sekwencje\n",
    "- stringi\n",
    "- listy\n",
    "- krotki\n",
    "- słowniki\n",
    "- zbiory"
   ]
  },
  {
   "cell_type": "code",
   "execution_count": 12,
   "metadata": {
    "collapsed": true
   },
   "outputs": [],
   "source": [
    "utterance = \"Ada: pączki zjada\"\n",
    "index_znaku = utterance.index(\":\")\n",
    "osoba = utterance[:index_znaku]\n",
    "wypowiedz = utterance[index_znaku+2:]"
   ]
  },
  {
   "cell_type": "code",
   "execution_count": 13,
   "metadata": {
    "collapsed": false
   },
   "outputs": [
    {
     "name": "stdout",
     "output_type": "stream",
     "text": [
      "Ada\n"
     ]
    }
   ],
   "source": [
    "print(osoba)"
   ]
  },
  {
   "cell_type": "code",
   "execution_count": 14,
   "metadata": {
    "collapsed": false
   },
   "outputs": [
    {
     "name": "stdout",
     "output_type": "stream",
     "text": [
      "pączki zjada\n"
     ]
    }
   ],
   "source": [
    "print(wypowiedz)"
   ]
  },
  {
   "cell_type": "code",
   "execution_count": 18,
   "metadata": {
    "collapsed": false
   },
   "outputs": [
    {
     "data": {
      "text/plain": [
       "'bardzo znaków ciąg'"
      ]
     },
     "execution_count": 18,
     "metadata": {},
     "output_type": "execute_result"
    }
   ],
   "source": [
    "\" bardzo znaków ciąg \".strip()"
   ]
  },
  {
   "cell_type": "code",
   "execution_count": 19,
   "metadata": {
    "collapsed": false
   },
   "outputs": [
    {
     "data": {
      "text/plain": [
       "'MAŁY'"
      ]
     },
     "execution_count": 19,
     "metadata": {},
     "output_type": "execute_result"
    }
   ],
   "source": [
    "\"mały\".upper()"
   ]
  },
  {
   "cell_type": "code",
   "execution_count": 20,
   "metadata": {
    "collapsed": false
   },
   "outputs": [
    {
     "data": {
      "text/plain": [
       "'Mały'"
      ]
     },
     "execution_count": 20,
     "metadata": {},
     "output_type": "execute_result"
    }
   ],
   "source": [
    "\"mały\".upper()\n",
    "text = \"mały\"\n",
    "text[0].upper() + text[1:]"
   ]
  },
  {
   "cell_type": "code",
   "execution_count": 21,
   "metadata": {
    "collapsed": true
   },
   "outputs": [],
   "source": [
    "def UpperFirst(text):\n",
    "    return text[0].upper() + text[1:]"
   ]
  },
  {
   "cell_type": "code",
   "execution_count": 23,
   "metadata": {
    "collapsed": false
   },
   "outputs": [
    {
     "data": {
      "text/plain": [
       "'aaa **** **** *****'"
      ]
     },
     "execution_count": 23,
     "metadata": {},
     "output_type": "execute_result"
    }
   ],
   "source": [
    "\"aaa dupa dupa cycki\".replace(\"dupa\", \"****\").replace(\"cycki\", \"*****\")"
   ]
  },
  {
   "cell_type": "code",
   "execution_count": 24,
   "metadata": {
    "collapsed": false
   },
   "outputs": [
    {
     "name": "stdout",
     "output_type": "stream",
     "text": [
      "aaa **** **** ****\n"
     ]
    }
   ],
   "source": [
    "bad_words = [\"dupa\", \"cycki\"]\n",
    "text = \"aaa dupa dupa cycki\"\n",
    "\n",
    "for element in bad_words:\n",
    "    text = text.replace(element, \"****\")\n",
    "print(text)"
   ]
  },
  {
   "cell_type": "code",
   "execution_count": 26,
   "metadata": {
    "collapsed": false
   },
   "outputs": [
    {
     "data": {
      "text/plain": [
       "['dupa', 'cycki', 'chujek', 'chujek']"
      ]
     },
     "execution_count": 26,
     "metadata": {},
     "output_type": "execute_result"
    }
   ],
   "source": [
    "bad_words.append(\"chujek\")\n",
    "bad_words\n",
    "# przeciwieństwo to pop"
   ]
  },
  {
   "cell_type": "code",
   "execution_count": 28,
   "metadata": {
    "collapsed": true
   },
   "outputs": [],
   "source": [
    "lista_numerkow = [1, 2, 3, 4, 5]"
   ]
  },
  {
   "cell_type": "code",
   "execution_count": 31,
   "metadata": {
    "collapsed": false
   },
   "outputs": [
    {
     "data": {
      "text/plain": [
       "[1, 2, 'trzy', '3', 3, 3, 4, 5]"
      ]
     },
     "execution_count": 31,
     "metadata": {},
     "output_type": "execute_result"
    }
   ],
   "source": [
    "lista_numerkow.insert(2, \"trzy\") # pierwszy argument = index (od 0), drugi to co wstawiasz\n",
    "lista_numerkow"
   ]
  },
  {
   "cell_type": "code",
   "execution_count": 49,
   "metadata": {
    "collapsed": false
   },
   "outputs": [],
   "source": [
    "klienci = [\"Madzia\", \"Jadzia\", \"Kasia\", \"Asia\"]\n",
    "# stos = jak talerze (bierze z góry talerz, czyli od końca listy)\n",
    "# kolejka = FIFO\n",
    "\n",
    "\n"
   ]
  },
  {
   "cell_type": "code",
   "execution_count": 51,
   "metadata": {
    "collapsed": false
   },
   "outputs": [
    {
     "name": "stdout",
     "output_type": "stream",
     "text": [
      "Teraz obsługuję: Kasia."
     ]
    }
   ],
   "source": [
    "klient = klienci.pop() #stos\n",
    "print(\"Teraz obsługuję\", klient, sep=\": \", end=\".\")"
   ]
  },
  {
   "cell_type": "code",
   "execution_count": 52,
   "metadata": {
    "collapsed": true
   },
   "outputs": [],
   "source": [
    "klient = klienci.pop(0) #kolejka"
   ]
  },
  {
   "cell_type": "code",
   "execution_count": 55,
   "metadata": {
    "collapsed": false
   },
   "outputs": [
    {
     "data": {
      "text/plain": [
       "[1, 2, 3, 4, 5, 6]"
      ]
     },
     "execution_count": 55,
     "metadata": {},
     "output_type": "execute_result"
    }
   ],
   "source": [
    "lista1 = [1, 2, 3]\n",
    "lista2 = [4, 5, 6]\n",
    "lista_all = lista1 + lista2\n",
    "lista_all"
   ]
  },
  {
   "cell_type": "code",
   "execution_count": 56,
   "metadata": {
    "collapsed": false
   },
   "outputs": [
    {
     "data": {
      "text/plain": [
       "[1, 2, 3, 4, 5, 6]"
      ]
     },
     "execution_count": 56,
     "metadata": {},
     "output_type": "execute_result"
    }
   ],
   "source": [
    "lista3 = [1, 2, 3]\n",
    "lista4 = [4, 5, 6]\n",
    "lista3.extend(lista4)\n",
    "lista3"
   ]
  },
  {
   "cell_type": "code",
   "execution_count": 57,
   "metadata": {
    "collapsed": true
   },
   "outputs": [],
   "source": [
    "\n",
    "# pytamy o imie\n",
    "# poprawiamy male/duze litery\n",
    "# pytamy o wiek\n",
    "# sprawdzamy czy jest pełnoletni, jak nie to mówimy ile lat zostało"
   ]
  },
  {
   "cell_type": "code",
   "execution_count": 65,
   "metadata": {
    "collapsed": false
   },
   "outputs": [
    {
     "name": "stdout",
     "output_type": "stream",
     "text": [
      "Podaj swoje imię:\n",
      "adzior\n",
      "Witaj, Adzior\n",
      "Podaj swój wiek:\n",
      "12\n",
      "Wróć za 6 lat\n"
     ]
    }
   ],
   "source": [
    "print(\"Podaj swoje imię:\")\n",
    "imie = input()\n",
    "imie = imie[0].upper() + imie[1:]\n",
    "print(\"Witaj,\", imie)\n",
    "\n",
    "print(\"Podaj swój wiek:\")\n",
    "wiek = int(input()) # od razu do inta\n",
    "\n",
    "WIEK_WSTEPU = 18 # WIELKIMI LITERAMI SIĘ DEKLARUJE STAŁE\n",
    "if wiek >= WIEK_WSTEPU:\n",
    "    print(\"Witaj w naszym elitarnym klubie!\")\n",
    "else:\n",
    "    ile_brakuje_lat = WIEK_WSTEPU - wiek\n",
    "    print(\"Wróć za {0} lat.\".format(ile_brakuje_lat))"
   ]
  },
  {
   "cell_type": "code",
   "execution_count": null,
   "metadata": {
    "collapsed": true
   },
   "outputs": [],
   "source": []
  }
 ],
 "metadata": {
  "kernelspec": {
   "display_name": "Python 3",
   "language": "python",
   "name": "python3"
  },
  "language_info": {
   "codemirror_mode": {
    "name": "ipython",
    "version": 3
   },
   "file_extension": ".py",
   "mimetype": "text/x-python",
   "name": "python",
   "nbconvert_exporter": "python",
   "pygments_lexer": "ipython3",
   "version": "3.4.3"
  }
 },
 "nbformat": 4,
 "nbformat_minor": 0
}
